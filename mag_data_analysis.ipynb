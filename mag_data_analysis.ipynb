{
 "cells": [
  {
   "cell_type": "markdown",
   "id": "c8f3f2d4",
   "metadata": {},
   "source": [
    "# Imports and setup"
   ]
  },
  {
   "cell_type": "code",
   "execution_count": 7,
   "id": "5dedb5a3",
   "metadata": {},
   "outputs": [],
   "source": [
    "## import important things\n",
    "import os\n",
    "\n",
    "import numpy as np\n",
    "import pandas as pd\n",
    "import matplotlib.pyplot as plt\n",
    "import matplotlib.cm as cm\n",
    "import matplotlib as mpl\n",
    "import meshio\n"
   ]
  },
  {
   "cell_type": "markdown",
   "id": "b40d5a3a",
   "metadata": {},
   "source": [
    "# Useful functions"
   ]
  },
  {
   "cell_type": "markdown",
   "id": "53236ef8",
   "metadata": {},
   "source": [
    "## BasinMag class definition"
   ]
  },
  {
   "cell_type": "code",
   "execution_count": 8,
   "id": "26e6db5d",
   "metadata": {},
   "outputs": [],
   "source": [
    "## BasinMag class\n",
    "class BasinMag():\n",
    "    def __init__(self,B_map,RRfp,RRi,params_fp):\n",
    "        self.B_map = B_map\n",
    "        self.RRfp = RRfp\n",
    "        self.RRi = RRi\n",
    "        \n",
    "        # get some parameters, do some calculations\n",
    "        self.readParams(params_fp)\n",
    "        self.load_revRate()\n",
    "        self.calc_Brms()\n",
    "        self.calc_Bmax()\n",
    "        \n",
    "        return\n",
    "    \n",
    "    def readParams(self,params_fp):\n",
    "        cfg = open(params_fp, \"r\")\n",
    "\n",
    "        list_of_lines = cfg.readlines()\n",
    "        \n",
    "        # set file paths\n",
    "        self.dim_x = int(list_of_lines[0][6:-1])\n",
    "        self.dim_z = int(list_of_lines[1][6:-1])\n",
    "        self.dt = float(list_of_lines[2][4:-1])\n",
    "        self.t_tot = float(list_of_lines[3][6:-1])\n",
    "        \n",
    "        return\n",
    "    def make_x(self,dx):\n",
    "        dom_shape = np.max(self.B_map.shape)\n",
    "        \n",
    "        return np.arange(-(dom_shape-1.)/2*dx,((dom_shape-1.)/2+1)*dx,dx)\n",
    "        \n",
    "    def calc_revRate(self):\n",
    "        rev_rate = len(self.revs)/self.t_tot\n",
    "        \n",
    "        self.rev_rate = rev_rate\n",
    "        return rev_rate\n",
    "    \n",
    "    def load_revRate(self):\n",
    "        rev_rate = np.loadtxt(self.RRfp)\n",
    "        \n",
    "        if rev_rate.shape:\n",
    "            self.rev_rate = rev_rate[self.RRi]\n",
    "        else:\n",
    "            self.rev_rate = 0\n",
    "            \n",
    "        return rev_rate\n",
    "    \n",
    "    def load_revs(self):\n",
    "        rev_rate = np.loadtxt(self.RRfp)\n",
    "        \n",
    "        self.rev_rate = rev_rate\n",
    "        return rev_rate\n",
    "    \n",
    "    def calc_Brms(self):\n",
    "        B_rms = np.sqrt(np.mean(self.B_map**2))\n",
    "        \n",
    "        self.B_rms = B_rms\n",
    "        return B_rms\n",
    "        \n",
    "    def calc_Bmax(self):\n",
    "        B_max = np.amax(self.B_map)\n",
    "        \n",
    "        self.B_max = B_max\n",
    "        return B_max\n",
    "    \n",
    "    def set_Susc(self,Susc):\n",
    "        self.S_map = Susc\n",
    "    "
   ]
  },
  {
   "cell_type": "markdown",
   "id": "947ddbdf",
   "metadata": {},
   "source": [
    "## Reading in maps"
   ]
  },
  {
   "cell_type": "code",
   "execution_count": 9,
   "id": "445b5cc2",
   "metadata": {},
   "outputs": [],
   "source": [
    "## data restructuring functions\n",
    "# split BMap file into individual basins\n",
    "def split_Bmaps(Bfp,dims=-1):\n",
    "    Bm1 = np.loadtxt(Bfp)\n",
    "    \n",
    "    if dims == -1:\n",
    "        if Bm1.shape[0]>30:\n",
    "            dim_im = int(np.sqrt(Bm1.shape[0]))\n",
    "            Bm1=Bm1.reshape(1,dim_im,dim_im)\n",
    "        else:\n",
    "            dim_im = int(np.sqrt(Bm1.shape[1]))\n",
    "            Bm1=Bm1.reshape(Bm1.shape[0],dim_im,dim_im)#\n",
    "    else:\n",
    "        if Bm1.shape[0]>30:\n",
    "            dim_im = int(np.sqrt(Bm1.shape[0]))\n",
    "            Bm1=Bm1.reshape(1,dims[0],dims[1])\n",
    "        else:\n",
    "            dim_im = int(np.sqrt(Bm1.shape[1]))\n",
    "            Bm1=Bm1.reshape(Bm1.shape[0],dims[0],dims[1])\n",
    "    \n",
    "    return Bm1\n",
    "\n",
    "# split reversals\n",
    "def split_revs(Rfp):\n",
    "    Rlines = open(Rfp, \"r\")\n",
    "    Revs = []\n",
    "    \n",
    "    list_of_lines = Rlines.readlines()\n",
    "    for i,line in enumerate(list_of_lines):\n",
    "        if line[-2]!=']':\n",
    "            l1 = str.split(line[1:-1])\n",
    "            l2 = str.split(list_of_lines[i+1][0:-2])\n",
    "            \n",
    "            Revs.append(np.array(l1+l2).astype(int))\n",
    "        elif line[0]!='[':\n",
    "            continue\n",
    "        else:\n",
    "            Revs.append(np.array(str.split(line[1:-2])).astype(int))\n",
    "    \n",
    "    return Revs\n",
    "\n",
    "def readParams(params_fp):\n",
    "        cfg = open(params_fp, \"r\")\n",
    "\n",
    "        list_of_lines = cfg.readlines()\n",
    "        \n",
    "        # set file paths\n",
    "        dim_x = int(list_of_lines[0][6:-1])\n",
    "        dim_z = int(list_of_lines[1][6:-1])\n",
    "        dt = float(list_of_lines[2][4:-1])\n",
    "        t_tot = float(list_of_lines[3][6:-1])\n",
    "        \n",
    "        return dim_x, dim_z, dt, t_tot\n",
    "\n",
    "# split SuscMap file into individual basins\n",
    "def split_Smaps(Sfp,params_fp):\n",
    "    dim_x, dim_z, dt, t_tot = readParams(params_fp)\n",
    "    \n",
    "    Sm1 = np.loadtxt(Sfp)\n",
    "    if Sm1.shape[0]>30:\n",
    "        Sm1=Sm1.reshape(1,-1,dim_x,dim_x)\n",
    "    else:\n",
    "        Sm1=Sm1.reshape(Sm1.shape[0],-1,dim_x,dim_x)\n",
    "    return Sm1\n",
    "\n",
    "def make_Basins(Bfp,RRfp,params_fp,**kwargs):\n",
    "    Bms = split_Bmaps(Bfp,**kwargs)\n",
    "    #Rms = split_revs(Rfp)\n",
    "    \n",
    "    Basins = []\n",
    "    \n",
    "    for i,Bm in enumerate(Bms):\n",
    "        Basins.append(BasinMag(Bm,RRfp,i,params_fp))\n",
    "        \n",
    "    return Basins"
   ]
  },
  {
   "cell_type": "markdown",
   "id": "91ac4fb5",
   "metadata": {},
   "source": [
    "## Get binned magnetic field data"
   ]
  },
  {
   "cell_type": "code",
   "execution_count": 5,
   "id": "23eb6cf3",
   "metadata": {},
   "outputs": [],
   "source": [
    "step = 0.5\n",
    "adj = 5\n",
    "\n",
    "def get_binned_B(rev_rs, max_Bs, step, adj, output='all'):\n",
    "    n_basins = max_Bs.shape[0]\n",
    "    rr_bins = np.arange(0,10+step,step)\n",
    "    \n",
    "    frac_demag = np.zeros((n_basins,int(10/step)+1))\n",
    "    n_demag = np.zeros((n_basins,int(10/step)+1))\n",
    "    means = np.zeros((n_basins,int(10/step)+1))\n",
    "\n",
    "    for br in range(n_basins):\n",
    "        frac_temp = np.zeros((1,int(10/step)+1))\n",
    "        n_temp = np.zeros((1,int(10/step)+1))\n",
    "\n",
    "        rev_b = rev_rs[br,:]\n",
    "        max_b = max_Bs[br,:]\n",
    "\n",
    "        rev_b = rev_b[max_b<400]\n",
    "        max_b = max_b[max_b<400]\n",
    "\n",
    "        for ir,rr in enumerate(np.arange(0,10+step,step)):\n",
    "            temp = max_b[(rev_b*1e6>rr) & (rev_b*1e6 < rr+step)]*adj/10\n",
    "            \n",
    "            means[:,ir] = np.nanmean(temp)\n",
    "            frac_temp[:,ir] = np.sum(temp<10)/np.max([1,len(temp)])\n",
    "            n_temp[:,ir] = np.sum(temp<10)\n",
    "        \n",
    "        frac_demag[br,:] = frac_temp\n",
    "        n_demag[br,:] = n_temp\n",
    "    \n",
    "    if output == 'all':\n",
    "        return rr_bins, means, frac_demag, n_demag\n",
    "    elif  output == 'mean':\n",
    "        return rr_bins, means"
   ]
  },
  {
   "cell_type": "markdown",
   "id": "62f97325",
   "metadata": {},
   "source": [
    "## Map-making demo"
   ]
  },
  {
   "cell_type": "code",
   "execution_count": 19,
   "id": "b32a5adf",
   "metadata": {},
   "outputs": [
    {
     "data": {
      "image/png": "[encoded data removed]",
      "text/plain": [
       "<Figure size 576x1440 with 3 Axes>"
      ]
     },
     "metadata": {
      "needs_background": "light"
     },
     "output_type": "display_data"
    }
   ],
   "source": [
    "## plot an example magnetic field map\n",
    "Bztest1 = split_Bmaps(os.getcwd()+'/600km/mag_output/BMaps/010_200km_ig6/BzMap_600km_10_15_5.txt',dims=[126,9])*5\n",
    "Btest1 = split_Bmaps(os.getcwd()+'/600km/mag_output/BMaps/010_200km_ig6/BMap_600km_10_15_5.txt',dims=[126,9])*5\n",
    "\n",
    "# plot B_z map\n",
    "fig,ax = plt.subplots(nrows=1,ncols=2,figsize=(8,20),sharey=True)\n",
    "pc0=ax[0].pcolormesh(Bztest1[2,:,:],cmap='bwr')\n",
    "pc0.set_clim(-8,8)\n",
    "ax[0].set_title('B$_z$ (nT)')\n",
    "ax[0].axis('equal')\n",
    "\n",
    "# plot |B| map\n",
    "pc1=ax[1].pcolormesh(Btest1[2,:,:],cmap='bwr')\n",
    "ax[1].set_title('|B| (nT)')\n",
    "pc1.set_clim(-6,6)\n",
    "fig.colorbar(pc1,ax=ax[1])\n",
    "ax[1].axis('equal');\n"
   ]
  },
  {
   "cell_type": "code",
   "execution_count": 16,
   "id": "9f51a59a",
   "metadata": {},
   "outputs": [
    {
     "name": "stdout",
     "output_type": "stream",
     "text": [
      "Mean reversal rate: 5.01 Myr^-1\n"
     ]
    }
   ],
   "source": [
    "## and get the reversal rate \n",
    "revs_tmp = np.loadtxt(os.getcwd()+'/600km/mag_output/RevRates/010_200km_ig6/RR_600km_10_15_5.txt')*1e6\n",
    "\n",
    "print(f'Mean reversal rate: {revs_tmp[2]:1.2f} Myr^-1')"
   ]
  },
  {
   "cell_type": "markdown",
   "id": "905df9d6",
   "metadata": {},
   "source": [
    "## Demo expected outputs"
   ]
  },
  {
   "cell_type": "code",
   "execution_count": null,
   "id": "ba10b678",
   "metadata": {},
   "outputs": [
    {
     "data": {
      "image/png": "[encoded data removed]",
      "text/plain": [
       "<Figure size 576x1440 with 3 Axes>"
      ]
     },
     "metadata": {},
     "output_type": "display_data"
    }
   ],
   "source": [
    "## plot an example magnetic field map\n",
    "Bztest1 = split_Bmaps(os.getcwd()+'/600km/mag_output_expected/BMaps/010_200km_ig6/BzMap_600km_10_15_5.txt',dims=[126,9])*5\n",
    "Btest1 = split_Bmaps(os.getcwd()+'/600km/mag_output_expected/BMaps/010_200km_ig6/BMap_600km_10_15_5.txt',dims=[126,9])*5\n",
    "\n",
    "# plot B_z map\n",
    "fig,ax = plt.subplots(nrows=1,ncols=2,figsize=(8,20),sharey=True)\n",
    "pc0=ax[0].pcolormesh(Bztest1[2,:,:],cmap='bwr')\n",
    "pc0.set_clim(-8,8)\n",
    "ax[0].set_title('B$_z$ (nT)')\n",
    "ax[0].axis('equal')\n",
    "\n",
    "# plot |B| map\n",
    "pc1=ax[1].pcolormesh(Btest1[2,:,:],cmap='bwr')\n",
    "ax[1].set_title('|B| (nT)')\n",
    "pc1.set_clim(-6,6)\n",
    "fig.colorbar(pc1,ax=ax[1])\n",
    "ax[1].axis('equal');\n"
   ]
  },
  {
   "cell_type": "code",
   "execution_count": null,
   "id": "9d9a7d4c",
   "metadata": {},
   "outputs": [],
   "source": []
  }
 ],
 "metadata": {
  "kernelspec": {
   "display_name": "Python 3 (ipykernel)",
   "language": "python",
   "name": "python3"
  },
  "language_info": {
   "codemirror_mode": {
    "name": "ipython",
    "version": 3
   },
   "file_extension": ".py",
   "mimetype": "text/x-python",
   "name": "python",
   "nbconvert_exporter": "python",
   "pygments_lexer": "ipython3",
   "version": "3.8.3"
  }
 },
 "nbformat": 4,
 "nbformat_minor": 5
}
